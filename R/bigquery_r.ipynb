{
 "cells": [
  {
   "cell_type": "code",
   "execution_count": 4,
   "id": "f420ce27-bf6e-4009-8b27-c6e5e01ce854",
   "metadata": {},
   "outputs": [
    {
     "data": {
      "text/html": [
       "'/home/jupyter/conda_envs/r_explain/bin:/opt/conda/bin:/opt/conda/condabin:/opt/conda/bin:/usr/local/nvidia/bin:/usr/local/cuda/bin:/usr/local/sbin:/usr/local/bin:/usr/sbin:/usr/bin:/sbin:/bin'"
      ],
      "text/latex": [
       "'/home/jupyter/conda\\_envs/r\\_explain/bin:/opt/conda/bin:/opt/conda/condabin:/opt/conda/bin:/usr/local/nvidia/bin:/usr/local/cuda/bin:/usr/local/sbin:/usr/local/bin:/usr/sbin:/usr/bin:/sbin:/bin'"
      ],
      "text/markdown": [
       "'/home/jupyter/conda_envs/r_explain/bin:/opt/conda/bin:/opt/conda/condabin:/opt/conda/bin:/usr/local/nvidia/bin:/usr/local/cuda/bin:/usr/local/sbin:/usr/local/bin:/usr/sbin:/usr/bin:/sbin:/bin'"
      ],
      "text/plain": [
       "[1] \"/home/jupyter/conda_envs/r_explain/bin:/opt/conda/bin:/opt/conda/condabin:/opt/conda/bin:/usr/local/nvidia/bin:/usr/local/cuda/bin:/usr/local/sbin:/usr/local/bin:/usr/sbin:/usr/bin:/sbin:/bin\""
      ]
     },
     "metadata": {},
     "output_type": "display_data"
    }
   ],
   "source": [
    "old_path <- Sys.getenv(\"PATH\")\n",
    "Sys.setenv(PATH = paste(\"/home/jupyter/conda_envs/r_explain/bin\",old_path, sep = \":\"))\n",
    "Sys.getenv(\"PATH\")"
   ]
  },
  {
   "cell_type": "code",
   "execution_count": 5,
   "id": "5958094f-1354-4248-8116-9d5d5872a385",
   "metadata": {},
   "outputs": [
    {
     "name": "stderr",
     "output_type": "stream",
     "text": [
      "Installing package into ‘/home/jupyter/.R/library’\n",
      "(as ‘lib’ is unspecified)\n",
      "\n",
      "also installing the dependencies ‘fs’, ‘brio’, ‘gargle’\n",
      "\n",
      "\n",
      "Warning message in install.packages(\"bigrquery\"):\n",
      "“installation of package ‘fs’ had non-zero exit status”\n",
      "Warning message in install.packages(\"bigrquery\"):\n",
      "“installation of package ‘brio’ had non-zero exit status”\n",
      "Warning message in install.packages(\"bigrquery\"):\n",
      "“installation of package ‘gargle’ had non-zero exit status”\n",
      "Warning message in install.packages(\"bigrquery\"):\n",
      "“installation of package ‘bigrquery’ had non-zero exit status”\n"
     ]
    }
   ],
   "source": [
    "install.packages(\"bigrquery\")"
   ]
  },
  {
   "cell_type": "code",
   "execution_count": 1,
   "id": "4168bfc8-2d48-41fb-90e7-73672fa28534",
   "metadata": {},
   "outputs": [],
   "source": [
    "library(\"reticulate\")\n",
    "library(\"glue\")\n",
    "library(\"bigrquery\")"
   ]
  },
  {
   "cell_type": "code",
   "execution_count": 2,
   "id": "1bcf8805-463c-490c-87cc-8409cbf64c8b",
   "metadata": {},
   "outputs": [],
   "source": [
    "aiplatform <- import(\"google.cloud.aiplatform\")"
   ]
  },
  {
   "cell_type": "code",
   "execution_count": 3,
   "id": "b04195c9-c119-4e5f-9cc3-bcec6c85d3d5",
   "metadata": {},
   "outputs": [],
   "source": [
    "# Define function to execute shell commands\n",
    "sh <- function(cmd, args = c(), intern = FALSE) {\n",
    "  if (is.null(args)) {\n",
    "    cmd <- glue(cmd)\n",
    "    s <- strsplit(cmd, \" \")[[1]]\n",
    "    cmd <- s[1]\n",
    "    if (length(s) > 1) {\n",
    "      args <- s[2:length(s)]\n",
    "    }\n",
    "  }\n",
    "  ret <- system2(cmd, args, stdout = TRUE, stderr = TRUE)\n",
    "  if (\"errmsg\" %in% attributes(attributes(ret))$names) cat(attr(ret, \"errmsg\"), \"\\n\")\n",
    "  if (intern) return(ret) else cat(paste(ret, collapse = \"\\n\"))\n",
    "}"
   ]
  },
  {
   "cell_type": "code",
   "execution_count": 4,
   "id": "e50ba965-918e-48ed-a951-657a815e9687",
   "metadata": {},
   "outputs": [],
   "source": [
    "access_token <- sh(\"gcloud auth print-access-token\", intern = TRUE)\n",
    "bq_auth(access_token)"
   ]
  },
  {
   "cell_type": "code",
   "execution_count": 5,
   "id": "f9c7b979-ba29-4454-943b-e6e16d832390",
   "metadata": {},
   "outputs": [],
   "source": [
    "project <- \"pbalm-cxb-aa\"\n",
    "sql <- \"SELECT country, operating_system FROM `pbalm-cxb-aa.creditcards_eu_w1.train` LIMIT 1000\"\n",
    "tb <- bq_project_query(project, sql)"
   ]
  },
  {
   "cell_type": "code",
   "execution_count": 9,
   "id": "b7f7fa5e-f9d1-4998-9768-7c6fc4cc1fe9",
   "metadata": {},
   "outputs": [
    {
     "data": {
      "text/html": [
       "<dl>\n",
       "\t<dt>$project</dt>\n",
       "\t\t<dd>'pbalm-cxb-aa'</dd>\n",
       "\t<dt>$dataset</dt>\n",
       "\t\t<dd>'_e1ec690e2aba15184546b78665e8d6e1b5b88b3b'</dd>\n",
       "\t<dt>$table</dt>\n",
       "\t\t<dd>'anon1a05d715b49bfb441fa5fde8d6008dec59af880678837bfbfb0baf88ab4cd7da'</dd>\n",
       "</dl>\n"
      ],
      "text/latex": [
       "\\begin{description}\n",
       "\\item[\\$project] 'pbalm-cxb-aa'\n",
       "\\item[\\$dataset] '\\_e1ec690e2aba15184546b78665e8d6e1b5b88b3b'\n",
       "\\item[\\$table] 'anon1a05d715b49bfb441fa5fde8d6008dec59af880678837bfbfb0baf88ab4cd7da'\n",
       "\\end{description}\n"
      ],
      "text/markdown": [
       "$project\n",
       ":   'pbalm-cxb-aa'\n",
       "$dataset\n",
       ":   '_e1ec690e2aba15184546b78665e8d6e1b5b88b3b'\n",
       "$table\n",
       ":   'anon1a05d715b49bfb441fa5fde8d6008dec59af880678837bfbfb0baf88ab4cd7da'\n",
       "\n",
       "\n"
      ],
      "text/plain": [
       "$project\n",
       "[1] \"pbalm-cxb-aa\"\n",
       "\n",
       "$dataset\n",
       "[1] \"_e1ec690e2aba15184546b78665e8d6e1b5b88b3b\"\n",
       "\n",
       "$table\n",
       "[1] \"anon1a05d715b49bfb441fa5fde8d6008dec59af880678837bfbfb0baf88ab4cd7da\"\n"
      ]
     },
     "metadata": {},
     "output_type": "display_data"
    }
   ],
   "source": [
    "head(tb)"
   ]
  },
  {
   "cell_type": "code",
   "execution_count": 7,
   "id": "61fa9933-f2cc-4c53-b3f0-93dbf2b12071",
   "metadata": {},
   "outputs": [
    {
     "data": {
      "text/html": [
       "'/home/jupyter/conda_envs/env_r/bin:/opt/conda/bin:/opt/conda/condabin:/opt/conda/bin:/usr/local/nvidia/bin:/usr/local/cuda/bin:/usr/local/sbin:/usr/local/bin:/usr/sbin:/usr/bin:/sbin:/bin'"
      ],
      "text/latex": [
       "'/home/jupyter/conda\\_envs/env\\_r/bin:/opt/conda/bin:/opt/conda/condabin:/opt/conda/bin:/usr/local/nvidia/bin:/usr/local/cuda/bin:/usr/local/sbin:/usr/local/bin:/usr/sbin:/usr/bin:/sbin:/bin'"
      ],
      "text/markdown": [
       "'/home/jupyter/conda_envs/env_r/bin:/opt/conda/bin:/opt/conda/condabin:/opt/conda/bin:/usr/local/nvidia/bin:/usr/local/cuda/bin:/usr/local/sbin:/usr/local/bin:/usr/sbin:/usr/bin:/sbin:/bin'"
      ],
      "text/plain": [
       "[1] \"/home/jupyter/conda_envs/env_r/bin:/opt/conda/bin:/opt/conda/condabin:/opt/conda/bin:/usr/local/nvidia/bin:/usr/local/cuda/bin:/usr/local/sbin:/usr/local/bin:/usr/sbin:/usr/bin:/sbin:/bin\""
      ]
     },
     "metadata": {},
     "output_type": "display_data"
    }
   ],
   "source": [
    "old_path <- Sys.getenv(\"PATH\")\n",
    "Sys.setenv(PATH = paste(\"/home/jupyter/conda_envs/env_r/bin\",old_path, sep = \":\"))\n",
    "Sys.getenv(\"PATH\")"
   ]
  },
  {
   "cell_type": "code",
   "execution_count": 8,
   "id": "bc6b09f7-cf15-4dcd-b7b2-5beb6999ac05",
   "metadata": {},
   "outputs": [
    {
     "name": "stderr",
     "output_type": "stream",
     "text": [
      "Installing package into ‘/home/jupyter/.R/library’\n",
      "(as ‘lib’ is unspecified)\n",
      "\n",
      "also installing the dependencies ‘sodium’, ‘ellipsis’\n",
      "\n",
      "\n"
     ]
    }
   ],
   "source": [
    "install.packages(\"plumber\")"
   ]
  },
  {
   "cell_type": "code",
   "execution_count": 12,
   "id": "994ccceb-4f51-49ff-95e8-ad379a83ea89",
   "metadata": {},
   "outputs": [
    {
     "ename": "ERROR",
     "evalue": "Error: 'bq_auth' is not an exported object from 'namespace:bigrquery'\n",
     "output_type": "error",
     "traceback": [
      "Error: 'bq_auth' is not an exported object from 'namespace:bigrquery'\nTraceback:\n",
      "1. bigrquery::bq_auth",
      "2. getExportedValue(pkg, name)",
      "3. stop(gettextf(\"'%s' is not an exported object from 'namespace:%s'\", \n .     name, getNamespaceName(ns)), call. = FALSE, domain = NA)"
     ]
    }
   ],
   "source": [
    "bigrquery::bq_auth()"
   ]
  },
  {
   "cell_type": "code",
   "execution_count": 15,
   "id": "c48385c6-b96e-47f9-980f-d16fa82e2345",
   "metadata": {},
   "outputs": [],
   "source": [
    "access_token <- sh(\"gcloud auth print-access-token\", intern = TRUE)"
   ]
  },
  {
   "cell_type": "code",
   "execution_count": 14,
   "id": "f1d20d6a-cb83-4492-99c3-2d5fe0e6c7ec",
   "metadata": {},
   "outputs": [],
   "source": [
    "# Define function to execute shell commands\n",
    "sh <- function(cmd, args = c(), intern = FALSE) {\n",
    "  if (is.null(args)) {\n",
    "    cmd <- glue(cmd)\n",
    "    s <- strsplit(cmd, \" \")[[1]]\n",
    "    cmd <- s[1]\n",
    "    if (length(s) > 1) {\n",
    "      args <- s[2:length(s)]\n",
    "    }\n",
    "  }\n",
    "  ret <- system2(cmd, args, stdout = TRUE, stderr = TRUE)\n",
    "  if (\"errmsg\" %in% attributes(attributes(ret))$names) cat(attr(ret, \"errmsg\"), \"\\n\")\n",
    "  if (intern) return(ret) else cat(paste(ret, collapse = \"\\n\"))\n",
    "}"
   ]
  },
  {
   "cell_type": "code",
   "execution_count": 26,
   "id": "92083e56-7d70-4fb6-b2d7-f591405b7d9e",
   "metadata": {},
   "outputs": [
    {
     "ename": "ERROR",
     "evalue": "Error in eval(expr, envir, enclos): object 'bq_auth' not found\n",
     "output_type": "error",
     "traceback": [
      "Error in eval(expr, envir, enclos): object 'bq_auth' not found\nTraceback:\n"
     ]
    }
   ],
   "source": []
  },
  {
   "cell_type": "code",
   "execution_count": 2,
   "id": "78716591-d102-4ffb-bfa2-73bf326520fe",
   "metadata": {},
   "outputs": [],
   "source": [
    "library(xgboost)"
   ]
  },
  {
   "cell_type": "code",
   "execution_count": null,
   "id": "57adbcca-13c4-43ef-ae2d-d6b41f783717",
   "metadata": {},
   "outputs": [],
   "source": []
  }
 ],
 "metadata": {
  "kernelspec": {
   "display_name": "R 3.3 (Local)",
   "language": "R",
   "name": "local-ir33"
  },
  "language_info": {
   "codemirror_mode": "r",
   "file_extension": ".r",
   "mimetype": "text/x-r-source",
   "name": "R",
   "pygments_lexer": "r",
   "version": "3.6.1"
  }
 },
 "nbformat": 4,
 "nbformat_minor": 5
}
