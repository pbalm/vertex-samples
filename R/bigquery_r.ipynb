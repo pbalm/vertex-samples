{
 "cells": [
  {
   "cell_type": "code",
   "execution_count": null,
   "id": "5958094f-1354-4248-8116-9d5d5872a385",
   "metadata": {},
   "outputs": [],
   "source": [
    "install.packages(\"bigrquery\")"
   ]
  },
  {
   "cell_type": "code",
   "execution_count": 23,
   "id": "4168bfc8-2d48-41fb-90e7-73672fa28534",
   "metadata": {},
   "outputs": [],
   "source": [
    "library(\"reticulate\")\n",
    "library(\"glue\")\n",
    "library(\"bigrquery\")"
   ]
  },
  {
   "cell_type": "code",
   "execution_count": 24,
   "id": "1bcf8805-463c-490c-87cc-8409cbf64c8b",
   "metadata": {},
   "outputs": [],
   "source": [
    "aiplatform <- import(\"google.cloud.aiplatform\")"
   ]
  },
  {
   "cell_type": "code",
   "execution_count": null,
   "id": "e50ba965-918e-48ed-a951-657a815e9687",
   "metadata": {},
   "outputs": [
    {
     "name": "stderr",
     "output_type": "stream",
     "text": [
      "Waiting for authentication in browser...\n",
      "\n",
      "Press Esc/Ctrl + C to abort\n",
      "\n",
      "Please point your browser to the following url: \n",
      "\n",
      "https://accounts.google.com/o/oauth2/auth?client_id=465736758727.apps.googleusercontent.com&scope=https%3A%2F%2Fwww.googleapis.com%2Fauth%2Fbigquery%20https%3A%2F%2Fwww.googleapis.com%2Fauth%2Fcloud-platform&redirect_uri=http%3A%2F%2Flocalhost%3A1410%2F&response_type=code&state=7dDRlKlW9z\n",
      "\n"
     ]
    }
   ],
   "source": [
    "project <- \"pbalm-cxb-aa\"\n",
    "sql <- \"SELECT country, operating_system FROM `pbalm-cxb-aa.creditcards_eu_w1.train` LIMIT 1000\"\n",
    "tb <- bq_project_query(project, sql, token=access_token)"
   ]
  },
  {
   "cell_type": "code",
   "execution_count": 7,
   "id": "61fa9933-f2cc-4c53-b3f0-93dbf2b12071",
   "metadata": {},
   "outputs": [
    {
     "data": {
      "text/html": [
       "'/home/jupyter/conda_envs/env_r/bin:/opt/conda/bin:/opt/conda/condabin:/opt/conda/bin:/usr/local/nvidia/bin:/usr/local/cuda/bin:/usr/local/sbin:/usr/local/bin:/usr/sbin:/usr/bin:/sbin:/bin'"
      ],
      "text/latex": [
       "'/home/jupyter/conda\\_envs/env\\_r/bin:/opt/conda/bin:/opt/conda/condabin:/opt/conda/bin:/usr/local/nvidia/bin:/usr/local/cuda/bin:/usr/local/sbin:/usr/local/bin:/usr/sbin:/usr/bin:/sbin:/bin'"
      ],
      "text/markdown": [
       "'/home/jupyter/conda_envs/env_r/bin:/opt/conda/bin:/opt/conda/condabin:/opt/conda/bin:/usr/local/nvidia/bin:/usr/local/cuda/bin:/usr/local/sbin:/usr/local/bin:/usr/sbin:/usr/bin:/sbin:/bin'"
      ],
      "text/plain": [
       "[1] \"/home/jupyter/conda_envs/env_r/bin:/opt/conda/bin:/opt/conda/condabin:/opt/conda/bin:/usr/local/nvidia/bin:/usr/local/cuda/bin:/usr/local/sbin:/usr/local/bin:/usr/sbin:/usr/bin:/sbin:/bin\""
      ]
     },
     "metadata": {},
     "output_type": "display_data"
    }
   ],
   "source": [
    "old_path <- Sys.getenv(\"PATH\")\n",
    "Sys.setenv(PATH = paste(\"/home/jupyter/conda_envs/env_r/bin\",old_path, sep = \":\"))\n",
    "Sys.getenv(\"PATH\")"
   ]
  },
  {
   "cell_type": "code",
   "execution_count": 8,
   "id": "bc6b09f7-cf15-4dcd-b7b2-5beb6999ac05",
   "metadata": {},
   "outputs": [
    {
     "name": "stderr",
     "output_type": "stream",
     "text": [
      "Installing package into ‘/home/jupyter/.R/library’\n",
      "(as ‘lib’ is unspecified)\n",
      "\n",
      "also installing the dependencies ‘sodium’, ‘ellipsis’\n",
      "\n",
      "\n"
     ]
    }
   ],
   "source": [
    "install.packages(\"plumber\")"
   ]
  },
  {
   "cell_type": "code",
   "execution_count": 12,
   "id": "994ccceb-4f51-49ff-95e8-ad379a83ea89",
   "metadata": {},
   "outputs": [
    {
     "ename": "ERROR",
     "evalue": "Error: 'bq_auth' is not an exported object from 'namespace:bigrquery'\n",
     "output_type": "error",
     "traceback": [
      "Error: 'bq_auth' is not an exported object from 'namespace:bigrquery'\nTraceback:\n",
      "1. bigrquery::bq_auth",
      "2. getExportedValue(pkg, name)",
      "3. stop(gettextf(\"'%s' is not an exported object from 'namespace:%s'\", \n .     name, getNamespaceName(ns)), call. = FALSE, domain = NA)"
     ]
    }
   ],
   "source": [
    "bigrquery::bq_auth()"
   ]
  },
  {
   "cell_type": "code",
   "execution_count": 15,
   "id": "c48385c6-b96e-47f9-980f-d16fa82e2345",
   "metadata": {},
   "outputs": [],
   "source": [
    "access_token <- sh(\"gcloud auth print-access-token\", intern = TRUE)"
   ]
  },
  {
   "cell_type": "code",
   "execution_count": 14,
   "id": "f1d20d6a-cb83-4492-99c3-2d5fe0e6c7ec",
   "metadata": {},
   "outputs": [],
   "source": [
    "# Define function to execute shell commands\n",
    "sh <- function(cmd, args = c(), intern = FALSE) {\n",
    "  if (is.null(args)) {\n",
    "    cmd <- glue(cmd)\n",
    "    s <- strsplit(cmd, \" \")[[1]]\n",
    "    cmd <- s[1]\n",
    "    if (length(s) > 1) {\n",
    "      args <- s[2:length(s)]\n",
    "    }\n",
    "  }\n",
    "  ret <- system2(cmd, args, stdout = TRUE, stderr = TRUE)\n",
    "  if (\"errmsg\" %in% attributes(attributes(ret))$names) cat(attr(ret, \"errmsg\"), \"\\n\")\n",
    "  if (intern) return(ret) else cat(paste(ret, collapse = \"\\n\"))\n",
    "}"
   ]
  },
  {
   "cell_type": "code",
   "execution_count": 26,
   "id": "92083e56-7d70-4fb6-b2d7-f591405b7d9e",
   "metadata": {},
   "outputs": [
    {
     "ename": "ERROR",
     "evalue": "Error in eval(expr, envir, enclos): object 'bq_auth' not found\n",
     "output_type": "error",
     "traceback": [
      "Error in eval(expr, envir, enclos): object 'bq_auth' not found\nTraceback:\n"
     ]
    }
   ],
   "source": []
  },
  {
   "cell_type": "code",
   "execution_count": null,
   "id": "78716591-d102-4ffb-bfa2-73bf326520fe",
   "metadata": {},
   "outputs": [],
   "source": []
  }
 ],
 "metadata": {
  "kernelspec": {
   "display_name": "R 3.3 (Local)",
   "language": "R",
   "name": "local-ir33"
  },
  "language_info": {
   "codemirror_mode": "r",
   "file_extension": ".r",
   "mimetype": "text/x-r-source",
   "name": "R",
   "pygments_lexer": "r",
   "version": "3.6.1"
  }
 },
 "nbformat": 4,
 "nbformat_minor": 5
}
