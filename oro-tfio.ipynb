{
 "cells": [
  {
   "cell_type": "code",
   "execution_count": 1,
   "id": "13d3be69-04f0-4c20-ba17-1a4485de822a",
   "metadata": {},
   "outputs": [],
   "source": [
    "from tensorflow.keras.models import Model\n",
    "import tensorflow as tf\n",
    "from tensorflow import keras\n",
    "import matplotlib.pyplot as plt\n",
    "from sklearn.preprocessing import MinMaxScaler\n",
    "from google.cloud import bigquery\n",
    "from tensorflow.keras.callbacks import ReduceLROnPlateau\n",
    "import warnings\n",
    "warnings.filterwarnings('ignore')"
   ]
  },
  {
   "cell_type": "code",
   "execution_count": 2,
   "id": "dd6fef90-7cf1-490b-818f-0434701d9eb0",
   "metadata": {},
   "outputs": [],
   "source": [
    "from tensorflow_io.bigquery import BigQueryClient\n",
    "from tensorflow_io.bigquery import BigQueryReadSession\n",
    "from tensorflow.python.framework import dtypes\n",
    "\n",
    "from tensorflow import feature_column"
   ]
  },
  {
   "cell_type": "code",
   "execution_count": 3,
   "id": "bb5fd1d5-50c0-4db8-8468-f67ad019538f",
   "metadata": {},
   "outputs": [],
   "source": [
    "from tensorflow.keras import layers, losses, optimizers"
   ]
  },
  {
   "cell_type": "code",
   "execution_count": 4,
   "id": "5fd69b95-b25a-401d-8f9d-33be1be8f54a",
   "metadata": {},
   "outputs": [],
   "source": [
    "def features_and_labels(features):\n",
    "    target = features.pop('s1')\n",
    "    #enodeb = features.pop('enodeb')\n",
    "    return features, target\n",
    "\n",
    "def read_bigquery():\n",
    "    batch_size=5\n",
    "    tensorflow_io_bigquery_client = BigQueryClient()\n",
    "    read_session = tensorflow_io_bigquery_client.read_session(\n",
    "          \"projects/\" + PROJECT_ID,\n",
    "           PROJECT_ID, TABLE_ID, DATASET_ID, COL_NAMES, COL_TYPES,\n",
    "          requested_streams=2)\n",
    "\n",
    "    dataset = read_session.parallel_read_rows()\n",
    "    transformed_ds = dataset.map(features_and_labels).shuffle(batch_size*10).batch(batch_size)\n",
    "    return transformed_ds"
   ]
  },
  {
   "cell_type": "code",
   "execution_count": 5,
   "id": "8abf4ddd-d908-49b6-a2d2-824df8ca186a",
   "metadata": {},
   "outputs": [
    {
     "name": "stdout",
     "output_type": "stream",
     "text": [
      "COL_NAMES ['t_4', 't_3', 't_2', 't_1', 'enodeb', 's1']\n",
      "COL_TYPES [tf.float64, tf.float64, tf.float64, tf.float64, tf.string, tf.float64]\n"
     ]
    }
   ],
   "source": [
    "def create_window_list(NB_LAG):\n",
    "    window_list = []\n",
    "    for l in range(NB_LAG):\n",
    "        if l<NB_LAG:\n",
    "            window_list.append(f't_{NB_LAG-l}')\n",
    "    return window_list\n",
    "\n",
    "l = create_window_list(4)\n",
    "\n",
    "COL_TYPES = []\n",
    "for i in range(len(l)):\n",
    "    x = [dtypes.float64]\n",
    "    COL_TYPES = COL_TYPES + x\n",
    "    \n",
    "COL_NAMES = l\n",
    "COL_NAMES = COL_NAMES + ['enodeb', 's1']\n",
    "#COL_NAMES = ['s1', 'enodeb']\n",
    "COL_TYPES = COL_TYPES + [dtypes.string, dtypes.float64]\n",
    "#COL_TYPES = [dtypes.float64, dtypes.string]\n",
    "\n",
    "print(f'COL_NAMES {COL_NAMES}')\n",
    "print(f'COL_TYPES {COL_TYPES}')\n"
   ]
  },
  {
   "cell_type": "markdown",
   "id": "9de1b37b-c3e7-4a24-bf46-496a92246f22",
   "metadata": {},
   "source": [
    "This is the query I used to select the data, but it's wrong, because when you lag the column and order by the time, it's not strictly sorted because there are multiple aggregations and therefore the times are repeated."
   ]
  },
  {
   "cell_type": "raw",
   "id": "d65822d0-1d7f-44cb-8539-b2b8ce04150a",
   "metadata": {},
   "source": [
    "SELECT \n",
    "  end_time_5min_ts as raw_data_endTime_1min,\n",
    "  '1' as enodeb,\n",
    "  kpi_s1_dropped_calls as s1,\n",
    "  LAG(kpi_s1_dropped_calls, 1) OVER (ORDER BY end_time_5min_ts ASC) as t_1,\n",
    "  LAG(kpi_s1_dropped_calls, 2) OVER (ORDER BY end_time_5min_ts ASC) as t_2,\n",
    "  LAG(kpi_s1_dropped_calls, 3) OVER (ORDER BY end_time_5min_ts ASC) as t_3,\n",
    "  LAG(kpi_s1_dropped_calls, 4) OVER (ORDER BY end_time_5min_ts ASC) as t_4,\n",
    " FROM `ofr-med-ialab-prod.ialab.kpis_s1`\n",
    " WHERE type_agg = 'ALL'\n",
    " ORDER BY end_time_5min_ts ASC\n",
    " LIMIT 100\n",
    " "
   ]
  },
  {
   "cell_type": "code",
   "execution_count": 6,
   "id": "5e2cb612-5445-470e-9724-687dd602ea7f",
   "metadata": {},
   "outputs": [],
   "source": [
    "PROJECT_ID='pbalm-orange'  \n",
    "DATASET_ID='test' # test dataset\n",
    "TABLE_ID  = 'kpi_s1_lags'"
   ]
  },
  {
   "cell_type": "code",
   "execution_count": 7,
   "id": "fa7f78f3-5e08-49ad-90be-8bb27866b538",
   "metadata": {},
   "outputs": [
    {
     "name": "stderr",
     "output_type": "stream",
     "text": [
      "2022-06-17 18:03:11.739816: W tensorflow_io/core/kernels/audio_video_mp3_kernels.cc:271] libmp3lame.so.0 or lame functions are not available\n",
      "2022-06-17 18:03:11.740454: I tensorflow_io/core/kernels/cpu_check.cc:128] Your CPU supports instructions that this TensorFlow IO binary was not compiled to use: AVX2 FMA\n",
      "2022-06-17 18:03:11.894181: I tensorflow/core/common_runtime/process_util.cc:146] Creating new thread pool with default inter op setting: 2. Tune using inter_op_parallelism_threads for best performance.\n"
     ]
    }
   ],
   "source": [
    "training_ds = read_bigquery()"
   ]
  },
  {
   "cell_type": "code",
   "execution_count": 8,
   "id": "9ff0a32c-879f-457a-96d4-5865b8c5e4f3",
   "metadata": {},
   "outputs": [
    {
     "data": {
      "text/plain": [
       "<BatchDataset element_spec=(OrderedDict([('enodeb', TensorSpec(shape=(None,), dtype=tf.string, name=None)), ('t_1', TensorSpec(shape=(None,), dtype=tf.float64, name=None)), ('t_2', TensorSpec(shape=(None,), dtype=tf.float64, name=None)), ('t_3', TensorSpec(shape=(None,), dtype=tf.float64, name=None)), ('t_4', TensorSpec(shape=(None,), dtype=tf.float64, name=None))]), TensorSpec(shape=(None,), dtype=tf.float64, name=None))>"
      ]
     },
     "execution_count": 8,
     "metadata": {},
     "output_type": "execute_result"
    }
   ],
   "source": [
    "training_ds"
   ]
  },
  {
   "cell_type": "code",
   "execution_count": 9,
   "id": "5550d105-8178-48e1-9942-a482c6e17aa7",
   "metadata": {},
   "outputs": [
    {
     "data": {
      "text/plain": [
       "<MapDataset element_spec=OrderedDict([('enodeb', TensorSpec(shape=(None,), dtype=tf.string, name=None)), ('t_1', TensorSpec(shape=(None,), dtype=tf.float64, name=None)), ('t_2', TensorSpec(shape=(None,), dtype=tf.float64, name=None)), ('t_3', TensorSpec(shape=(None,), dtype=tf.float64, name=None)), ('t_4', TensorSpec(shape=(None,), dtype=tf.float64, name=None))])>"
      ]
     },
     "execution_count": 9,
     "metadata": {},
     "output_type": "execute_result"
    }
   ],
   "source": [
    "training_ds.map(lambda x, y: x)"
   ]
  },
  {
   "cell_type": "code",
   "execution_count": 10,
   "id": "c9993721-0a8b-4c05-9bde-e66cc22df9ba",
   "metadata": {},
   "outputs": [],
   "source": [
    "window_size = 4"
   ]
  },
  {
   "cell_type": "code",
   "execution_count": 11,
   "id": "11a92c48-63e7-442b-aa14-db984e4b4e28",
   "metadata": {},
   "outputs": [],
   "source": [
    "str_lookup_layer = layers.StringLookup(name='string_lookup')\n",
    "str_lookup_layer.adapt(['1'])"
   ]
  },
  {
   "cell_type": "code",
   "execution_count": 12,
   "id": "1ce93f76-c598-4a44-89af-171982ff7d16",
   "metadata": {},
   "outputs": [],
   "source": [
    "def get_model(str_layer):\n",
    "    # generate one input layer per feature column\n",
    "    inputs = [layers.Input(name=f't_{i}', shape=(1,), dtype='float64') for i in range(1, window_size+1)]\n",
    "    inp_node = layers.Input(shape=[], dtype=tf.string, name='enodeb')\n",
    "    \n",
    "    d = layers.concatenate(inputs, name='concat')\n",
    "    x = layers.Dense(4, activation=\"relu\", name='autoenc_1')(d)\n",
    "    x = layers.Dense(2, activation=\"relu\", name='autoenc_2')(x)\n",
    "    x = layers.Dense(4, activation=\"relu\", name='autoenc_3')(x)\n",
    "    \n",
    "    xx = str_layer(inp_node)\n",
    "    xx = layers.Embedding(str_layer.vocabulary_size(), 10, name='embedding')(xx)\n",
    "    xx = layers.Embedding(str_layer.vocabulary_size(), 10, name='embedding')(inp_node)\n",
    "    xx = layers.Flatten(name='flatten')(xx)\n",
    "    # xx = layers.Dense(8, activation=\"relu\")(xx)\n",
    "    \n",
    "    x = layers.Concatenate(name='concat_w_embed')([x, xx])\n",
    "    x = layers.Dense(window_size+1, activation=\"relu\", name='output')(x)\n",
    "    \n",
    "    model = Model([inputs, inp_node], x)\n",
    "    return model"
   ]
  },
  {
   "cell_type": "code",
   "execution_count": 13,
   "id": "62a14cac-6b30-40ef-ace1-a144d4cffed5",
   "metadata": {},
   "outputs": [],
   "source": [
    "autoencoder = get_model(str_lookup_layer)\n",
    "optimizer = optimizers.Adam(learning_rate=1e-3)\n",
    "autoencoder.compile(\n",
    "    loss=\"mse\",\n",
    "              optimizer=optimizer,\n",
    "              metrics=[\"mae\"])\n",
    "\n",
    "reduce_lr = ReduceLROnPlateau(monitor='loss', factor=0.2,\n",
    "                              patience=2, min_lr=1e-10)\n",
    "\n",
    "checkpoint_filepath = 'checkpoints/dense_autoencoder_enodebs_s1_2'\n",
    "\n",
    "model_checkpoint_callback = tf.keras.callbacks.ModelCheckpoint(\n",
    "    filepath=checkpoint_filepath,\n",
    "    save_weights_only=True,\n",
    "    monitor='loss',\n",
    "    mode='max',\n",
    "    save_best_only=True)"
   ]
  },
  {
   "cell_type": "code",
   "execution_count": 14,
   "id": "a903939f-3562-4ca2-bd0b-1a61945109bf",
   "metadata": {},
   "outputs": [
    {
     "data": {
      "image/png": "[encoded data removed]",
      "text/plain": [
       "<IPython.core.display.Image object>"
      ]
     },
     "execution_count": 14,
     "metadata": {},
     "output_type": "execute_result"
    }
   ],
   "source": [
    "tf.keras.utils.plot_model(autoencoder, show_dtype=True)"
   ]
  },
  {
   "cell_type": "code",
   "execution_count": 15,
   "id": "cfc4e0b4-c1f4-47bd-b44c-943e1927cb73",
   "metadata": {},
   "outputs": [],
   "source": [
    "batch_size=5"
   ]
  },
  {
   "cell_type": "code",
   "execution_count": 16,
   "id": "4f3aa23b-721e-47d3-9152-6c14a58bb724",
   "metadata": {},
   "outputs": [
    {
     "name": "stdout",
     "output_type": "stream",
     "text": [
      "Epoch 1/3\n"
     ]
    },
    {
     "name": "stderr",
     "output_type": "stream",
     "text": [
      "2022-06-17 18:03:13.849641: W tensorflow/core/framework/op_kernel.cc:1722] OP_REQUIRES failed at cast_op.cc:121 : UNIMPLEMENTED: Cast double to string is not supported\n"
     ]
    },
    {
     "ename": "UnimplementedError",
     "evalue": "Graph execution error:\n\nDetected at node 'model/Cast_1' defined at (most recent call last):\n    File \"/opt/conda/lib/python3.7/runpy.py\", line 193, in _run_module_as_main\n      \"__main__\", mod_spec)\n    File \"/opt/conda/lib/python3.7/runpy.py\", line 85, in _run_code\n      exec(code, run_globals)\n    File \"/opt/conda/lib/python3.7/site-packages/ipykernel_launcher.py\", line 17, in <module>\n      app.launch_new_instance()\n    File \"/opt/conda/lib/python3.7/site-packages/traitlets/config/application.py\", line 972, in launch_instance\n      app.start()\n    File \"/opt/conda/lib/python3.7/site-packages/ipykernel/kernelapp.py\", line 712, in start\n      self.io_loop.start()\n    File \"/opt/conda/lib/python3.7/site-packages/tornado/platform/asyncio.py\", line 199, in start\n      self.asyncio_loop.run_forever()\n    File \"/opt/conda/lib/python3.7/asyncio/base_events.py\", line 541, in run_forever\n      self._run_once()\n    File \"/opt/conda/lib/python3.7/asyncio/base_events.py\", line 1786, in _run_once\n      handle._run()\n    File \"/opt/conda/lib/python3.7/asyncio/events.py\", line 88, in _run\n      self._context.run(self._callback, *self._args)\n    File \"/opt/conda/lib/python3.7/site-packages/ipykernel/kernelbase.py\", line 504, in dispatch_queue\n      await self.process_one()\n    File \"/opt/conda/lib/python3.7/site-packages/ipykernel/kernelbase.py\", line 493, in process_one\n      await dispatch(*args)\n    File \"/opt/conda/lib/python3.7/site-packages/ipykernel/kernelbase.py\", line 400, in dispatch_shell\n      await result\n    File \"/opt/conda/lib/python3.7/site-packages/ipykernel/kernelbase.py\", line 724, in execute_request\n      reply_content = await reply_content\n    File \"/opt/conda/lib/python3.7/site-packages/ipykernel/ipkernel.py\", line 387, in do_execute\n      cell_id=cell_id,\n    File \"/opt/conda/lib/python3.7/site-packages/ipykernel/zmqshell.py\", line 528, in run_cell\n      return super().run_cell(*args, **kwargs)\n    File \"/opt/conda/lib/python3.7/site-packages/IPython/core/interactiveshell.py\", line 2975, in run_cell\n      raw_cell, store_history, silent, shell_futures, cell_id\n    File \"/opt/conda/lib/python3.7/site-packages/IPython/core/interactiveshell.py\", line 3029, in _run_cell\n      return runner(coro)\n    File \"/opt/conda/lib/python3.7/site-packages/IPython/core/async_helpers.py\", line 78, in _pseudo_sync_runner\n      coro.send(None)\n    File \"/opt/conda/lib/python3.7/site-packages/IPython/core/interactiveshell.py\", line 3257, in run_cell_async\n      interactivity=interactivity, compiler=compiler, result=result)\n    File \"/opt/conda/lib/python3.7/site-packages/IPython/core/interactiveshell.py\", line 3472, in run_ast_nodes\n      if (await self.run_code(code, result,  async_=asy)):\n    File \"/opt/conda/lib/python3.7/site-packages/IPython/core/interactiveshell.py\", line 3552, in run_code\n      exec(code_obj, self.user_global_ns, self.user_ns)\n    File \"/tmp/ipykernel_15809/1268800415.py\", line 4, in <module>\n      batch_size=batch_size) #,\n    File \"/opt/conda/lib/python3.7/site-packages/keras/utils/traceback_utils.py\", line 64, in error_handler\n      return fn(*args, **kwargs)\n    File \"/opt/conda/lib/python3.7/site-packages/keras/engine/training.py\", line 1384, in fit\n      tmp_logs = self.train_function(iterator)\n    File \"/opt/conda/lib/python3.7/site-packages/keras/engine/training.py\", line 1021, in train_function\n      return step_function(self, iterator)\n    File \"/opt/conda/lib/python3.7/site-packages/keras/engine/training.py\", line 1010, in step_function\n      outputs = model.distribute_strategy.run(run_step, args=(data,))\n    File \"/opt/conda/lib/python3.7/site-packages/keras/engine/training.py\", line 1000, in run_step\n      outputs = model.train_step(data)\n    File \"/opt/conda/lib/python3.7/site-packages/keras/engine/training.py\", line 859, in train_step\n      y_pred = self(x, training=True)\n    File \"/opt/conda/lib/python3.7/site-packages/keras/utils/traceback_utils.py\", line 64, in error_handler\n      return fn(*args, **kwargs)\n    File \"/opt/conda/lib/python3.7/site-packages/keras/engine/base_layer.py\", line 1096, in __call__\n      outputs = call_fn(inputs, *args, **kwargs)\n    File \"/opt/conda/lib/python3.7/site-packages/keras/utils/traceback_utils.py\", line 92, in error_handler\n      return fn(*args, **kwargs)\n    File \"/opt/conda/lib/python3.7/site-packages/keras/engine/functional.py\", line 452, in call\n      inputs, training=training, mask=mask)\n    File \"/opt/conda/lib/python3.7/site-packages/keras/engine/functional.py\", line 571, in _run_internal_graph\n      y = self._conform_to_reference_input(y, ref_input=x)\n    File \"/opt/conda/lib/python3.7/site-packages/keras/engine/functional.py\", line 671, in _conform_to_reference_input\n      tensor = tf.cast(tensor, dtype=ref_input.dtype)\nNode: 'model/Cast_1'\nCast double to string is not supported\n\t [[{{node model/Cast_1}}]] [Op:__inference_train_function_1081]",
     "output_type": "error",
     "traceback": [
      "\u001b[0;31m---------------------------------------------------------------------------\u001b[0m",
      "\u001b[0;31mUnimplementedError\u001b[0m                        Traceback (most recent call last)",
      "\u001b[0;32m/tmp/ipykernel_15809/1268800415.py\u001b[0m in \u001b[0;36m<module>\u001b[0;34m\u001b[0m\n\u001b[1;32m      2\u001b[0m                         \u001b[0mepochs\u001b[0m\u001b[0;34m=\u001b[0m\u001b[0;36m3\u001b[0m\u001b[0;34m,\u001b[0m\u001b[0;34m\u001b[0m\u001b[0;34m\u001b[0m\u001b[0m\n\u001b[1;32m      3\u001b[0m                         \u001b[0;31m# validation_data=(test_array, test_array),\u001b[0m\u001b[0;34m\u001b[0m\u001b[0;34m\u001b[0m\u001b[0;34m\u001b[0m\u001b[0m\n\u001b[0;32m----> 4\u001b[0;31m                         batch_size=batch_size) #,\n\u001b[0m\u001b[1;32m      5\u001b[0m                         \u001b[0;31m#shuffle=True,\u001b[0m\u001b[0;34m\u001b[0m\u001b[0;34m\u001b[0m\u001b[0;34m\u001b[0m\u001b[0m\n\u001b[1;32m      6\u001b[0m                         \u001b[0;31m#callbacks=[reduce_lr, model_checkpoint_callback])\u001b[0m\u001b[0;34m\u001b[0m\u001b[0;34m\u001b[0m\u001b[0;34m\u001b[0m\u001b[0m\n",
      "\u001b[0;32m/opt/conda/lib/python3.7/site-packages/keras/utils/traceback_utils.py\u001b[0m in \u001b[0;36merror_handler\u001b[0;34m(*args, **kwargs)\u001b[0m\n\u001b[1;32m     65\u001b[0m     \u001b[0;32mexcept\u001b[0m \u001b[0mException\u001b[0m \u001b[0;32mas\u001b[0m \u001b[0me\u001b[0m\u001b[0;34m:\u001b[0m  \u001b[0;31m# pylint: disable=broad-except\u001b[0m\u001b[0;34m\u001b[0m\u001b[0;34m\u001b[0m\u001b[0m\n\u001b[1;32m     66\u001b[0m       \u001b[0mfiltered_tb\u001b[0m \u001b[0;34m=\u001b[0m \u001b[0m_process_traceback_frames\u001b[0m\u001b[0;34m(\u001b[0m\u001b[0me\u001b[0m\u001b[0;34m.\u001b[0m\u001b[0m__traceback__\u001b[0m\u001b[0;34m)\u001b[0m\u001b[0;34m\u001b[0m\u001b[0;34m\u001b[0m\u001b[0m\n\u001b[0;32m---> 67\u001b[0;31m       \u001b[0;32mraise\u001b[0m \u001b[0me\u001b[0m\u001b[0;34m.\u001b[0m\u001b[0mwith_traceback\u001b[0m\u001b[0;34m(\u001b[0m\u001b[0mfiltered_tb\u001b[0m\u001b[0;34m)\u001b[0m \u001b[0;32mfrom\u001b[0m \u001b[0;32mNone\u001b[0m\u001b[0;34m\u001b[0m\u001b[0;34m\u001b[0m\u001b[0m\n\u001b[0m\u001b[1;32m     68\u001b[0m     \u001b[0;32mfinally\u001b[0m\u001b[0;34m:\u001b[0m\u001b[0;34m\u001b[0m\u001b[0;34m\u001b[0m\u001b[0m\n\u001b[1;32m     69\u001b[0m       \u001b[0;32mdel\u001b[0m \u001b[0mfiltered_tb\u001b[0m\u001b[0;34m\u001b[0m\u001b[0;34m\u001b[0m\u001b[0m\n",
      "\u001b[0;32m/opt/conda/lib/python3.7/site-packages/tensorflow/python/eager/execute.py\u001b[0m in \u001b[0;36mquick_execute\u001b[0;34m(op_name, num_outputs, inputs, attrs, ctx, name)\u001b[0m\n\u001b[1;32m     53\u001b[0m     \u001b[0mctx\u001b[0m\u001b[0;34m.\u001b[0m\u001b[0mensure_initialized\u001b[0m\u001b[0;34m(\u001b[0m\u001b[0;34m)\u001b[0m\u001b[0;34m\u001b[0m\u001b[0;34m\u001b[0m\u001b[0m\n\u001b[1;32m     54\u001b[0m     tensors = pywrap_tfe.TFE_Py_Execute(ctx._handle, device_name, op_name,\n\u001b[0;32m---> 55\u001b[0;31m                                         inputs, attrs, num_outputs)\n\u001b[0m\u001b[1;32m     56\u001b[0m   \u001b[0;32mexcept\u001b[0m \u001b[0mcore\u001b[0m\u001b[0;34m.\u001b[0m\u001b[0m_NotOkStatusException\u001b[0m \u001b[0;32mas\u001b[0m \u001b[0me\u001b[0m\u001b[0;34m:\u001b[0m\u001b[0;34m\u001b[0m\u001b[0;34m\u001b[0m\u001b[0m\n\u001b[1;32m     57\u001b[0m     \u001b[0;32mif\u001b[0m \u001b[0mname\u001b[0m \u001b[0;32mis\u001b[0m \u001b[0;32mnot\u001b[0m \u001b[0;32mNone\u001b[0m\u001b[0;34m:\u001b[0m\u001b[0;34m\u001b[0m\u001b[0;34m\u001b[0m\u001b[0m\n",
      "\u001b[0;31mUnimplementedError\u001b[0m: Graph execution error:\n\nDetected at node 'model/Cast_1' defined at (most recent call last):\n    File \"/opt/conda/lib/python3.7/runpy.py\", line 193, in _run_module_as_main\n      \"__main__\", mod_spec)\n    File \"/opt/conda/lib/python3.7/runpy.py\", line 85, in _run_code\n      exec(code, run_globals)\n    File \"/opt/conda/lib/python3.7/site-packages/ipykernel_launcher.py\", line 17, in <module>\n      app.launch_new_instance()\n    File \"/opt/conda/lib/python3.7/site-packages/traitlets/config/application.py\", line 972, in launch_instance\n      app.start()\n    File \"/opt/conda/lib/python3.7/site-packages/ipykernel/kernelapp.py\", line 712, in start\n      self.io_loop.start()\n    File \"/opt/conda/lib/python3.7/site-packages/tornado/platform/asyncio.py\", line 199, in start\n      self.asyncio_loop.run_forever()\n    File \"/opt/conda/lib/python3.7/asyncio/base_events.py\", line 541, in run_forever\n      self._run_once()\n    File \"/opt/conda/lib/python3.7/asyncio/base_events.py\", line 1786, in _run_once\n      handle._run()\n    File \"/opt/conda/lib/python3.7/asyncio/events.py\", line 88, in _run\n      self._context.run(self._callback, *self._args)\n    File \"/opt/conda/lib/python3.7/site-packages/ipykernel/kernelbase.py\", line 504, in dispatch_queue\n      await self.process_one()\n    File \"/opt/conda/lib/python3.7/site-packages/ipykernel/kernelbase.py\", line 493, in process_one\n      await dispatch(*args)\n    File \"/opt/conda/lib/python3.7/site-packages/ipykernel/kernelbase.py\", line 400, in dispatch_shell\n      await result\n    File \"/opt/conda/lib/python3.7/site-packages/ipykernel/kernelbase.py\", line 724, in execute_request\n      reply_content = await reply_content\n    File \"/opt/conda/lib/python3.7/site-packages/ipykernel/ipkernel.py\", line 387, in do_execute\n      cell_id=cell_id,\n    File \"/opt/conda/lib/python3.7/site-packages/ipykernel/zmqshell.py\", line 528, in run_cell\n      return super().run_cell(*args, **kwargs)\n    File \"/opt/conda/lib/python3.7/site-packages/IPython/core/interactiveshell.py\", line 2975, in run_cell\n      raw_cell, store_history, silent, shell_futures, cell_id\n    File \"/opt/conda/lib/python3.7/site-packages/IPython/core/interactiveshell.py\", line 3029, in _run_cell\n      return runner(coro)\n    File \"/opt/conda/lib/python3.7/site-packages/IPython/core/async_helpers.py\", line 78, in _pseudo_sync_runner\n      coro.send(None)\n    File \"/opt/conda/lib/python3.7/site-packages/IPython/core/interactiveshell.py\", line 3257, in run_cell_async\n      interactivity=interactivity, compiler=compiler, result=result)\n    File \"/opt/conda/lib/python3.7/site-packages/IPython/core/interactiveshell.py\", line 3472, in run_ast_nodes\n      if (await self.run_code(code, result,  async_=asy)):\n    File \"/opt/conda/lib/python3.7/site-packages/IPython/core/interactiveshell.py\", line 3552, in run_code\n      exec(code_obj, self.user_global_ns, self.user_ns)\n    File \"/tmp/ipykernel_15809/1268800415.py\", line 4, in <module>\n      batch_size=batch_size) #,\n    File \"/opt/conda/lib/python3.7/site-packages/keras/utils/traceback_utils.py\", line 64, in error_handler\n      return fn(*args, **kwargs)\n    File \"/opt/conda/lib/python3.7/site-packages/keras/engine/training.py\", line 1384, in fit\n      tmp_logs = self.train_function(iterator)\n    File \"/opt/conda/lib/python3.7/site-packages/keras/engine/training.py\", line 1021, in train_function\n      return step_function(self, iterator)\n    File \"/opt/conda/lib/python3.7/site-packages/keras/engine/training.py\", line 1010, in step_function\n      outputs = model.distribute_strategy.run(run_step, args=(data,))\n    File \"/opt/conda/lib/python3.7/site-packages/keras/engine/training.py\", line 1000, in run_step\n      outputs = model.train_step(data)\n    File \"/opt/conda/lib/python3.7/site-packages/keras/engine/training.py\", line 859, in train_step\n      y_pred = self(x, training=True)\n    File \"/opt/conda/lib/python3.7/site-packages/keras/utils/traceback_utils.py\", line 64, in error_handler\n      return fn(*args, **kwargs)\n    File \"/opt/conda/lib/python3.7/site-packages/keras/engine/base_layer.py\", line 1096, in __call__\n      outputs = call_fn(inputs, *args, **kwargs)\n    File \"/opt/conda/lib/python3.7/site-packages/keras/utils/traceback_utils.py\", line 92, in error_handler\n      return fn(*args, **kwargs)\n    File \"/opt/conda/lib/python3.7/site-packages/keras/engine/functional.py\", line 452, in call\n      inputs, training=training, mask=mask)\n    File \"/opt/conda/lib/python3.7/site-packages/keras/engine/functional.py\", line 571, in _run_internal_graph\n      y = self._conform_to_reference_input(y, ref_input=x)\n    File \"/opt/conda/lib/python3.7/site-packages/keras/engine/functional.py\", line 671, in _conform_to_reference_input\n      tensor = tf.cast(tensor, dtype=ref_input.dtype)\nNode: 'model/Cast_1'\nCast double to string is not supported\n\t [[{{node model/Cast_1}}]] [Op:__inference_train_function_1081]"
     ]
    }
   ],
   "source": [
    "history = autoencoder.fit(training_ds,\n",
    "                        epochs=3,\n",
    "                        # validation_data=(test_array, test_array), \n",
    "                        batch_size=batch_size) #,\n",
    "                        #shuffle=True,\n",
    "                        #callbacks=[reduce_lr, model_checkpoint_callback])"
   ]
  },
  {
   "cell_type": "code",
   "execution_count": null,
   "id": "b5c2f3b8-2bd7-4652-aa1d-34c591016609",
   "metadata": {},
   "outputs": [],
   "source": []
  }
 ],
 "metadata": {
  "environment": {
   "kernel": "python3",
   "name": "tf2-gpu.2-8.m93",
   "type": "gcloud",
   "uri": "gcr.io/deeplearning-platform-release/tf2-gpu.2-8:m93"
  },
  "kernelspec": {
   "display_name": "Python 3",
   "language": "python",
   "name": "python3"
  },
  "language_info": {
   "codemirror_mode": {
    "name": "ipython",
    "version": 3
   },
   "file_extension": ".py",
   "mimetype": "text/x-python",
   "name": "python",
   "nbconvert_exporter": "python",
   "pygments_lexer": "ipython3",
   "version": "3.7.12"
  }
 },
 "nbformat": 4,
 "nbformat_minor": 5
}
