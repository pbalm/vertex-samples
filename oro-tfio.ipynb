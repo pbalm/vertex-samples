{
 "cells": [
  {
   "cell_type": "code",
   "execution_count": 1,
   "id": "13d3be69-04f0-4c20-ba17-1a4485de822a",
   "metadata": {},
   "outputs": [],
   "source": [
    "from tensorflow.keras.models import Model\n",
    "import tensorflow as tf\n",
    "from tensorflow import keras\n",
    "import matplotlib.pyplot as plt\n",
    "from sklearn.preprocessing import MinMaxScaler\n",
    "from google.cloud import bigquery\n",
    "from tensorflow.keras.callbacks import ReduceLROnPlateau\n",
    "import warnings\n",
    "warnings.filterwarnings('ignore')"
   ]
  },
  {
   "cell_type": "code",
   "execution_count": 2,
   "id": "dd6fef90-7cf1-490b-818f-0434701d9eb0",
   "metadata": {},
   "outputs": [],
   "source": [
    "from tensorflow_io.bigquery import BigQueryClient\n",
    "from tensorflow_io.bigquery import BigQueryReadSession\n",
    "from tensorflow.python.framework import dtypes\n",
    "\n",
    "from tensorflow import feature_column"
   ]
  },
  {
   "cell_type": "code",
   "execution_count": 3,
   "id": "bb5fd1d5-50c0-4db8-8468-f67ad019538f",
   "metadata": {},
   "outputs": [],
   "source": [
    "from tensorflow.keras import layers, losses, optimizers"
   ]
  },
  {
   "cell_type": "code",
   "execution_count": 4,
   "id": "5fd69b95-b25a-401d-8f9d-33be1be8f54a",
   "metadata": {},
   "outputs": [],
   "source": [
    "def features_and_labels(features):\n",
    "    target = features.pop('s1')\n",
    "    #enodeb = features.pop('enodeb')\n",
    "    return features, target\n",
    "\n",
    "def read_bigquery():\n",
    "    batch_size=5\n",
    "    tensorflow_io_bigquery_client = BigQueryClient()\n",
    "    read_session = tensorflow_io_bigquery_client.read_session(\n",
    "          \"projects/\" + PROJECT_ID,\n",
    "           PROJECT_ID, TABLE_ID, DATASET_ID, COL_NAMES, COL_TYPES,\n",
    "          requested_streams=2)\n",
    "\n",
    "    dataset = read_session.parallel_read_rows()\n",
    "    transformed_ds = dataset.map(features_and_labels).shuffle(batch_size*10).batch(batch_size)\n",
    "    return transformed_ds"
   ]
  },
  {
   "cell_type": "code",
   "execution_count": 5,
   "id": "887c31d7-6318-4312-9856-b5e0ce9233d0",
   "metadata": {},
   "outputs": [
    {
     "data": {
      "text/plain": [
       "[tf.float64, tf.float64, tf.float64, tf.float64]"
      ]
     },
     "execution_count": 5,
     "metadata": {},
     "output_type": "execute_result"
    }
   ],
   "source": [
    "x = [dtypes.float64]\n",
    "x*4"
   ]
  },
  {
   "cell_type": "code",
   "execution_count": null,
   "id": "946b8ab3-8802-42f9-b40e-a382a3a0de77",
   "metadata": {},
   "outputs": [],
   "source": []
  },
  {
   "cell_type": "code",
   "execution_count": 6,
   "id": "8abf4ddd-d908-49b6-a2d2-824df8ca186a",
   "metadata": {},
   "outputs": [
    {
     "name": "stdout",
     "output_type": "stream",
     "text": [
      "COL_NAMES ['t_4', 't_3', 't_2', 't_1', 'enodeb', 's1']\n",
      "COL_TYPES [tf.float64, tf.float64, tf.float64, tf.float64, tf.string, tf.float64]\n"
     ]
    }
   ],
   "source": [
    "def create_window_list(NB_LAG):\n",
    "    window_list = []\n",
    "    for l in range(NB_LAG):\n",
    "        if l<NB_LAG:\n",
    "            window_list.append(f't_{NB_LAG-l}')\n",
    "    return window_list\n",
    "\n",
    "l = create_window_list(4)\n",
    "\n",
    "COL_TYPES = []\n",
    "for i in range(len(l)):\n",
    "    x = [dtypes.float64]\n",
    "    COL_TYPES = COL_TYPES + x\n",
    "    \n",
    "COL_NAMES = l\n",
    "COL_NAMES = COL_NAMES + ['enodeb', 's1'] # s1 is the column with the labels\n",
    "COL_TYPES = COL_TYPES + [dtypes.string, dtypes.float64]\n",
    "\n",
    "print(f'COL_NAMES {COL_NAMES}')\n",
    "print(f'COL_TYPES {COL_TYPES}')\n"
   ]
  },
  {
   "cell_type": "markdown",
   "id": "9de1b37b-c3e7-4a24-bf46-496a92246f22",
   "metadata": {},
   "source": [
    "This is the query I used to select the data, but it's wrong, because when you lag the column and order by the time, it's not strictly sorted because there are multiple aggregations and therefore the times are repeated."
   ]
  },
  {
   "cell_type": "raw",
   "id": "d65822d0-1d7f-44cb-8539-b2b8ce04150a",
   "metadata": {},
   "source": [
    "SELECT \n",
    "  end_time_5min_ts as raw_data_endTime_1min,\n",
    "  '1' as enodeb,\n",
    "  kpi_s1_dropped_calls as s1,\n",
    "  LAG(kpi_s1_dropped_calls, 1) OVER (ORDER BY end_time_5min_ts ASC) as t_1,\n",
    "  LAG(kpi_s1_dropped_calls, 2) OVER (ORDER BY end_time_5min_ts ASC) as t_2,\n",
    "  LAG(kpi_s1_dropped_calls, 3) OVER (ORDER BY end_time_5min_ts ASC) as t_3,\n",
    "  LAG(kpi_s1_dropped_calls, 4) OVER (ORDER BY end_time_5min_ts ASC) as t_4,\n",
    " FROM `ofr-med-ialab-prod.ialab.kpis_s1`\n",
    " WHERE type_agg = 'ALL'\n",
    " ORDER BY end_time_5min_ts ASC\n",
    " LIMIT 100\n",
    " "
   ]
  },
  {
   "cell_type": "code",
   "execution_count": 7,
   "id": "5e2cb612-5445-470e-9724-687dd602ea7f",
   "metadata": {},
   "outputs": [],
   "source": [
    "PROJECT_ID='pbalm-orange'  \n",
    "DATASET_ID='test' # test dataset\n",
    "TABLE_ID  = 'kpi_s1_lags'"
   ]
  },
  {
   "cell_type": "code",
   "execution_count": 8,
   "id": "fa7f78f3-5e08-49ad-90be-8bb27866b538",
   "metadata": {},
   "outputs": [
    {
     "name": "stderr",
     "output_type": "stream",
     "text": [
      "2022-06-17 19:40:02.458343: W tensorflow_io/core/kernels/audio_video_mp3_kernels.cc:271] libmp3lame.so.0 or lame functions are not available\n",
      "2022-06-17 19:40:02.458767: I tensorflow_io/core/kernels/cpu_check.cc:128] Your CPU supports instructions that this TensorFlow IO binary was not compiled to use: AVX2 FMA\n",
      "2022-06-17 19:40:02.612414: I tensorflow/core/common_runtime/process_util.cc:146] Creating new thread pool with default inter op setting: 2. Tune using inter_op_parallelism_threads for best performance.\n"
     ]
    }
   ],
   "source": [
    "training_ds = read_bigquery()"
   ]
  },
  {
   "cell_type": "code",
   "execution_count": 9,
   "id": "9ff0a32c-879f-457a-96d4-5865b8c5e4f3",
   "metadata": {},
   "outputs": [
    {
     "data": {
      "text/plain": [
       "<BatchDataset element_spec=(OrderedDict([('enodeb', TensorSpec(shape=(None,), dtype=tf.string, name=None)), ('t_1', TensorSpec(shape=(None,), dtype=tf.float64, name=None)), ('t_2', TensorSpec(shape=(None,), dtype=tf.float64, name=None)), ('t_3', TensorSpec(shape=(None,), dtype=tf.float64, name=None)), ('t_4', TensorSpec(shape=(None,), dtype=tf.float64, name=None))]), TensorSpec(shape=(None,), dtype=tf.float64, name=None))>"
      ]
     },
     "execution_count": 9,
     "metadata": {},
     "output_type": "execute_result"
    }
   ],
   "source": [
    "training_ds"
   ]
  },
  {
   "cell_type": "code",
   "execution_count": 10,
   "id": "c9993721-0a8b-4c05-9bde-e66cc22df9ba",
   "metadata": {},
   "outputs": [],
   "source": [
    "window_size = 4"
   ]
  },
  {
   "cell_type": "code",
   "execution_count": 11,
   "id": "11a92c48-63e7-442b-aa14-db984e4b4e28",
   "metadata": {},
   "outputs": [],
   "source": [
    "str_lookup_layer = layers.StringLookup(name='string_lookup')\n",
    "str_lookup_layer.adapt(['1'])"
   ]
  },
  {
   "cell_type": "code",
   "execution_count": 12,
   "id": "1ce93f76-c598-4a44-89af-171982ff7d16",
   "metadata": {},
   "outputs": [],
   "source": [
    "def get_model(str_layer):\n",
    "    # generate one input layer per feature column\n",
    "    inputs = {f't_{i}': layers.Input(name=f't_{i}', shape=(1,), dtype='float64') for i in range(1, window_size+1)}\n",
    "    inputs['enodeb'] = layers.Input(shape=[], dtype=tf.string, name='enodeb')\n",
    "    \n",
    "    sorted_keys = list(inputs.keys())\n",
    "    sorted_keys.sort()\n",
    "    input_list = [inputs[k] for k in sorted_keys]\n",
    "    \n",
    "    d = layers.concatenate([inputs[k] for k in inputs if k.startswith('t')], name='concat')\n",
    "    x = layers.Dense(4, activation=\"relu\", name='autoenc_1')(d)\n",
    "    x = layers.Dense(2, activation=\"relu\", name='autoenc_2')(x)\n",
    "    x = layers.Dense(4, activation=\"relu\", name='autoenc_3')(x)\n",
    "    \n",
    "    xx = str_layer(inputs['enodeb'])\n",
    "    xx = layers.Embedding(str_layer.vocabulary_size(), 10, name='embedding')(xx)\n",
    "    xx = layers.Flatten(name='flatten')(xx)\n",
    "    \n",
    "    x = layers.Concatenate(name='concat_w_embed')([x, xx])\n",
    "    x = layers.Dense(window_size+1, activation=\"relu\", name='output')(x)\n",
    "    \n",
    "    model = Model(input_list, x)\n",
    "    return model"
   ]
  },
  {
   "cell_type": "code",
   "execution_count": 13,
   "id": "37808dbf-516f-491b-9188-b9bd8e833fd9",
   "metadata": {},
   "outputs": [
    {
     "data": {
      "text/plain": [
       "False"
      ]
     },
     "execution_count": 13,
     "metadata": {},
     "output_type": "execute_result"
    }
   ],
   "source": [
    "'a'.startswith('b')"
   ]
  },
  {
   "cell_type": "code",
   "execution_count": 14,
   "id": "62a14cac-6b30-40ef-ace1-a144d4cffed5",
   "metadata": {},
   "outputs": [],
   "source": [
    "autoencoder = get_model(str_lookup_layer)\n",
    "optimizer = optimizers.Adam(learning_rate=1e-3)\n",
    "autoencoder.compile(loss=\"mse\", optimizer=optimizer, metrics=[\"mae\"])"
   ]
  },
  {
   "cell_type": "code",
   "execution_count": 15,
   "id": "a903939f-3562-4ca2-bd0b-1a61945109bf",
   "metadata": {},
   "outputs": [
    {
     "data": {
      "image/png": "[encoded data removed]",
      "text/plain": [
       "<IPython.core.display.Image object>"
      ]
     },
     "execution_count": 15,
     "metadata": {},
     "output_type": "execute_result"
    }
   ],
   "source": [
    "tf.keras.utils.plot_model(autoencoder, show_dtype=True)"
   ]
  },
  {
   "cell_type": "code",
   "execution_count": 16,
   "id": "cfc4e0b4-c1f4-47bd-b44c-943e1927cb73",
   "metadata": {},
   "outputs": [],
   "source": [
    "batch_size=5"
   ]
  },
  {
   "cell_type": "code",
   "execution_count": 17,
   "id": "4f3aa23b-721e-47d3-9152-6c14a58bb724",
   "metadata": {},
   "outputs": [
    {
     "name": "stdout",
     "output_type": "stream",
     "text": [
      "Epoch 1/3\n"
     ]
    },
    {
     "name": "stderr",
     "output_type": "stream",
     "text": [
      "2022-06-17 19:40:04.518528: E tensorflow/core/framework/dataset.cc:580] UNIMPLEMENTED: Cannot compute input sources for dataset of type IO>BigQueryDataset, because the dataset does not implement `InputDatasets`.\n",
      "2022-06-17 19:40:04.518593: E tensorflow/core/framework/dataset.cc:584] UNIMPLEMENTED: Cannot merge options for dataset of type IO>BigQueryDataset, because the dataset does not implement `InputDatasets`.\n"
     ]
    },
    {
     "name": "stdout",
     "output_type": "stream",
     "text": [
      "20/20 [==============================] - 2s 30ms/step - loss: 9.8909e-05 - mae: 0.0034\n",
      "Epoch 2/3\n",
      "20/20 [==============================] - 0s 4ms/step - loss: 1.0951e-06 - mae: 8.8705e-04\n"
     ]
    },
    {
     "name": "stderr",
     "output_type": "stream",
     "text": [
      "2022-06-17 19:40:05.438723: E tensorflow/core/framework/dataset.cc:580] UNIMPLEMENTED: Cannot compute input sources for dataset of type IO>BigQueryDataset, because the dataset does not implement `InputDatasets`.\n",
      "2022-06-17 19:40:05.438783: E tensorflow/core/framework/dataset.cc:584] UNIMPLEMENTED: Cannot merge options for dataset of type IO>BigQueryDataset, because the dataset does not implement `InputDatasets`.\n"
     ]
    },
    {
     "name": "stdout",
     "output_type": "stream",
     "text": [
      "Epoch 3/3\n",
      "14/20 [====================>.........] - ETA: 0s - loss: 1.1962e-06 - mae: 9.1505e-04"
     ]
    },
    {
     "name": "stderr",
     "output_type": "stream",
     "text": [
      "2022-06-17 19:40:05.757454: E tensorflow/core/framework/dataset.cc:580] UNIMPLEMENTED: Cannot compute input sources for dataset of type IO>BigQueryDataset, because the dataset does not implement `InputDatasets`.\n",
      "2022-06-17 19:40:05.757547: E tensorflow/core/framework/dataset.cc:584] UNIMPLEMENTED: Cannot merge options for dataset of type IO>BigQueryDataset, because the dataset does not implement `InputDatasets`.\n"
     ]
    },
    {
     "name": "stdout",
     "output_type": "stream",
     "text": [
      "20/20 [==============================] - 0s 10ms/step - loss: 1.0951e-06 - mae: 8.8705e-04\n"
     ]
    }
   ],
   "source": [
    "history = autoencoder.fit(training_ds,\n",
    "                        epochs=3,\n",
    "                        # validation_data=(test_array, test_array), \n",
    "                        batch_size=batch_size) #,\n",
    "                        #shuffle=True,\n",
    "                        #callbacks=[reduce_lr, model_checkpoint_callback])"
   ]
  },
  {
   "cell_type": "code",
   "execution_count": null,
   "id": "b5c2f3b8-2bd7-4652-aa1d-34c591016609",
   "metadata": {},
   "outputs": [],
   "source": []
  }
 ],
 "metadata": {
  "environment": {
   "kernel": "python3",
   "name": "tf2-gpu.2-8.m93",
   "type": "gcloud",
   "uri": "gcr.io/deeplearning-platform-release/tf2-gpu.2-8:m93"
  },
  "kernelspec": {
   "display_name": "Python 3",
   "language": "python",
   "name": "python3"
  },
  "language_info": {
   "codemirror_mode": {
    "name": "ipython",
    "version": 3
   },
   "file_extension": ".py",
   "mimetype": "text/x-python",
   "name": "python",
   "nbconvert_exporter": "python",
   "pygments_lexer": "ipython3",
   "version": "3.7.12"
  }
 },
 "nbformat": 4,
 "nbformat_minor": 5
}
