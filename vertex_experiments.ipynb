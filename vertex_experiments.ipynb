{
 "cells": [
  {
   "cell_type": "code",
   "execution_count": 14,
   "id": "7e1476be-1f43-45f3-96f8-cca534441847",
   "metadata": {},
   "outputs": [],
   "source": [
    "from google.cloud import aiplatform"
   ]
  },
  {
   "cell_type": "code",
   "execution_count": 15,
   "id": "18f77e25-3948-4fd8-a7ca-3542c83cd02e",
   "metadata": {},
   "outputs": [],
   "source": [
    "experiment = 'loss-monitoring-demo'\n",
    "tensorboard = '1234556789'\n",
    "aiplatform.init(project='my-project-id', location='europe-west1', \n",
    "                experiment=experiment, \n",
    "                experiment_tensorboard=tensorboard)"
   ]
  },
  {
   "cell_type": "code",
   "execution_count": 16,
   "id": "1f1aa980-f5ee-42a3-a0cb-0eeb321a038f",
   "metadata": {},
   "outputs": [
    {
     "name": "stdout",
     "output_type": "stream",
     "text": [
      "Associating projects/188940921537/locations/europe-west1/metadataStores/default/contexts/loss-monitoring-demo-my-run-demo to Experiment: loss-monitoring-demo\n"
     ]
    }
   ],
   "source": [
    "aiplatform.start_run('my-run-demo')\n",
    "\n",
    "# training\n",
    "\n",
    "#for i in range(n_epochs):\n",
    "#\n",
    "#    ... model training ...\n",
    "#\n",
    "#    loss_after_epoch = 100\n",
    "#    accuracy_after_epoch = 0.85\n",
    "# \n",
    "#    aiplatform.log_time_series_metrics({'loss': loss_after_epoch, 'accuracy': accuracy_after_epoch}, step=i)\n",
    "\n",
    "\n",
    "# example with hardcoded examples:\n",
    "loss_values = [100, 70, 50, 35, 29, 22, 15, 16, 15, 13, 14, 14]\n",
    "\n",
    "# explicitly log steps\n",
    "for i, loss in enumerate(loss_values):\n",
    "    aiplatform.log_time_series_metrics({'loss': loss}, step=i)\n",
    "    \n",
    "# metrics and parameter at the level of one model training (instead of per iteration during training)\n",
    "aiplatform.log_metrics({'accuracy': 0.9, 'recall': 0.8})\n",
    "aiplatform.log_params({'learning_rate': 0.1, 'n_trees': 100})"
   ]
  },
  {
   "cell_type": "code",
   "execution_count": 17,
   "id": "8cd800f5-0f12-44c0-8a90-5b6f50a0ee43",
   "metadata": {},
   "outputs": [
    {
     "name": "stdout",
     "output_type": "stream",
     "text": [
      "Associating projects/188940921537/locations/europe-west1/metadataStores/default/contexts/loss-monitoring-demo-my-run2-demo to Experiment: loss-monitoring-demo\n"
     ]
    }
   ],
   "source": [
    "# another training with another Experiment\n",
    "aiplatform.start_run('my-run2-demo')\n",
    "\n",
    "loss_values = [x*0.7 for x in loss_values]\n",
    "\n",
    "# explicitly log steps\n",
    "for i, loss in enumerate(loss_values):\n",
    "    aiplatform.log_time_series_metrics({'loss': loss}, step=i)\n",
    "    \n",
    "# metrics and parameter at the level of one model training (instead of per iteration during training)\n",
    "aiplatform.log_metrics({'accuracy': 0.93, 'recall': 0.83})\n",
    "aiplatform.log_params({'learning_rate': 0.08, 'n_trees': 120})"
   ]
  },
  {
   "cell_type": "code",
   "execution_count": 18,
   "id": "f1ba059e-7c8f-46ff-a0de-c6e3b1786e30",
   "metadata": {},
   "outputs": [],
   "source": []
  },
  {
   "cell_type": "code",
   "execution_count": 19,
   "id": "f671cd1f-113f-405d-b660-c05b57461bd7",
   "metadata": {},
   "outputs": [],
   "source": []
  },
  {
   "cell_type": "markdown",
   "id": "9357b836-1da6-4f9e-ac25-f48ea17133d9",
   "metadata": {},
   "source": [
    "## Documentation\n",
    "\n",
    "* [Create and manage experiment runs](https://cloud.google.com/vertex-ai/docs/experiments/create-manage-exp-run#api)\n",
    "* [log time series metrics](https://cloud.google.com/python/docs/reference/aiplatform/latest/google.cloud.aiplatform#google_cloud_aiplatform_log_time_series_metrics)\n"
   ]
  },
  {
   "cell_type": "code",
   "execution_count": 10,
   "id": "bb5769fc-01bc-46bd-9a0a-966438297591",
   "metadata": {},
   "outputs": [],
   "source": []
  },
  {
   "cell_type": "code",
   "execution_count": null,
   "id": "a36a3e6c-5ad7-4372-84bf-c84e9f80c85f",
   "metadata": {},
   "outputs": [],
   "source": []
  }
 ],
 "metadata": {
  "kernelspec": {
   "display_name": "Python 3 (ipykernel)",
   "language": "python",
   "name": "python3"
  },
  "language_info": {
   "codemirror_mode": {
    "name": "ipython",
    "version": 3
   },
   "file_extension": ".py",
   "mimetype": "text/x-python",
   "name": "python",
   "nbconvert_exporter": "python",
   "pygments_lexer": "ipython3",
   "version": "3.9.7"
  }
 },
 "nbformat": 4,
 "nbformat_minor": 5
}
